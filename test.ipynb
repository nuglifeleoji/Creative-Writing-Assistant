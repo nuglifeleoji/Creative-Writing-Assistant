{
 "cells": [
  {
   "cell_type": "code",
   "execution_count": 2,
   "id": "104d19ef",
   "metadata": {},
   "outputs": [
    {
     "data": {
      "text/html": [
       "<div>\n",
       "<style scoped>\n",
       "    .dataframe tbody tr th:only-of-type {\n",
       "        vertical-align: middle;\n",
       "    }\n",
       "\n",
       "    .dataframe tbody tr th {\n",
       "        vertical-align: top;\n",
       "    }\n",
       "\n",
       "    .dataframe thead th {\n",
       "        text-align: right;\n",
       "    }\n",
       "</style>\n",
       "<table border=\"1\" class=\"dataframe\">\n",
       "  <thead>\n",
       "    <tr style=\"text-align: right;\">\n",
       "      <th></th>\n",
       "      <th>id</th>\n",
       "      <th>human_readable_id</th>\n",
       "      <th>source</th>\n",
       "      <th>target</th>\n",
       "      <th>description</th>\n",
       "      <th>weight</th>\n",
       "      <th>combined_degree</th>\n",
       "      <th>text_unit_ids</th>\n",
       "    </tr>\n",
       "  </thead>\n",
       "  <tbody>\n",
       "    <tr>\n",
       "      <th>0</th>\n",
       "      <td>084d6068-181d-4f23-bace-7c1606402bb5</td>\n",
       "      <td>0</td>\n",
       "      <td>圣彼得堡</td>\n",
       "      <td>伦敦</td>\n",
       "      <td>Saint Petersburg is located a thousand miles n...</td>\n",
       "      <td>5.0</td>\n",
       "      <td>7</td>\n",
       "      <td>[053c4bc5c30b64f9b9ae2ecabe5477deec6d35171d01d...</td>\n",
       "    </tr>\n",
       "    <tr>\n",
       "      <th>1</th>\n",
       "      <td>544f88c3-91f0-4041-b794-2ee6dbc5295a</td>\n",
       "      <td>1</td>\n",
       "      <td>玛格丽特</td>\n",
       "      <td>探险事业</td>\n",
       "      <td>Margaret is the recipient of the letter, which...</td>\n",
       "      <td>7.0</td>\n",
       "      <td>12</td>\n",
       "      <td>[053c4bc5c30b64f9b9ae2ecabe5477deec6d35171d01d...</td>\n",
       "    </tr>\n",
       "    <tr>\n",
       "      <th>2</th>\n",
       "      <td>198f5ef4-d449-41ec-a169-81439ffa9b8a</td>\n",
       "      <td>2</td>\n",
       "      <td>极地</td>\n",
       "      <td>探险事业</td>\n",
       "      <td>The polar region is the destination of the nar...</td>\n",
       "      <td>1.0</td>\n",
       "      <td>7</td>\n",
       "      <td>[053c4bc5c30b64f9b9ae2ecabe5477deec6d35171d01d...</td>\n",
       "    </tr>\n",
       "    <tr>\n",
       "      <th>3</th>\n",
       "      <td>3906fae6-cb7b-4c06-9117-cfb5619f339c</td>\n",
       "      <td>3</td>\n",
       "      <td>极地</td>\n",
       "      <td>北冰洋</td>\n",
       "      <td>The polar regions are connected to the Arctic ...</td>\n",
       "      <td>6.0</td>\n",
       "      <td>6</td>\n",
       "      <td>[a81f2516fd7bad9381685bee37f231fe8550b568aece3...</td>\n",
       "    </tr>\n",
       "    <tr>\n",
       "      <th>4</th>\n",
       "      <td>e77d29ff-2f60-4b35-8040-64228b48c96e</td>\n",
       "      <td>4</td>\n",
       "      <td>极地</td>\n",
       "      <td>航海</td>\n",
       "      <td>Exploration of the polar regions is a signific...</td>\n",
       "      <td>1.0</td>\n",
       "      <td>7</td>\n",
       "      <td>[a81f2516fd7bad9381685bee37f231fe8550b568aece3...</td>\n",
       "    </tr>\n",
       "  </tbody>\n",
       "</table>\n",
       "</div>"
      ],
      "text/plain": [
       "                                     id  human_readable_id source target  \\\n",
       "0  084d6068-181d-4f23-bace-7c1606402bb5                  0   圣彼得堡     伦敦   \n",
       "1  544f88c3-91f0-4041-b794-2ee6dbc5295a                  1   玛格丽特   探险事业   \n",
       "2  198f5ef4-d449-41ec-a169-81439ffa9b8a                  2     极地   探险事业   \n",
       "3  3906fae6-cb7b-4c06-9117-cfb5619f339c                  3     极地    北冰洋   \n",
       "4  e77d29ff-2f60-4b35-8040-64228b48c96e                  4     极地     航海   \n",
       "\n",
       "                                         description  weight  combined_degree  \\\n",
       "0  Saint Petersburg is located a thousand miles n...     5.0                7   \n",
       "1  Margaret is the recipient of the letter, which...     7.0               12   \n",
       "2  The polar region is the destination of the nar...     1.0                7   \n",
       "3  The polar regions are connected to the Arctic ...     6.0                6   \n",
       "4  Exploration of the polar regions is a signific...     1.0                7   \n",
       "\n",
       "                                       text_unit_ids  \n",
       "0  [053c4bc5c30b64f9b9ae2ecabe5477deec6d35171d01d...  \n",
       "1  [053c4bc5c30b64f9b9ae2ecabe5477deec6d35171d01d...  \n",
       "2  [053c4bc5c30b64f9b9ae2ecabe5477deec6d35171d01d...  \n",
       "3  [a81f2516fd7bad9381685bee37f231fe8550b568aece3...  \n",
       "4  [a81f2516fd7bad9381685bee37f231fe8550b568aece3...  "
      ]
     },
     "execution_count": 2,
     "metadata": {},
     "output_type": "execute_result"
    }
   ],
   "source": [
    "import pandas as pd\n",
    "df1=pd.read_parquet(\"output/entities.parquet\")\n",
    "df2=pd.read_parquet(\"output/relationships.parquet\")\n",
    "df3=pd.read_parquet(\"output/communities.parquet\")\n",
    "df4=pd.read_parquet(\"output/text_units.parquet\")\n",
    "df5=pd.read_parquet(\"output/documents.parquet\")\n",
    "df6=pd.read_parquet(\"output/community_reports.parquet\")\n",
    "\n",
    "df2.head()"
   ]
  },
  {
   "cell_type": "code",
   "execution_count": 3,
   "id": "0b989305",
   "metadata": {},
   "outputs": [
    {
     "data": {
      "text/plain": [
       "1646"
      ]
     },
     "execution_count": 3,
     "metadata": {},
     "output_type": "execute_result"
    }
   ],
   "source": [
    "len(df2)"
   ]
  }
 ],
 "metadata": {
  "kernelspec": {
   "display_name": "py311",
   "language": "python",
   "name": "python3"
  },
  "language_info": {
   "codemirror_mode": {
    "name": "ipython",
    "version": 3
   },
   "file_extension": ".py",
   "mimetype": "text/x-python",
   "name": "python",
   "nbconvert_exporter": "python",
   "pygments_lexer": "ipython3",
   "version": "3.11.9"
  }
 },
 "nbformat": 4,
 "nbformat_minor": 5
}
